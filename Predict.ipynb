{
 "cells": [
  {
   "cell_type": "markdown",
   "id": "dc700b67",
   "metadata": {},
   "source": [
    "Import libraries"
   ]
  },
  {
   "cell_type": "code",
   "execution_count": 53,
   "id": "c6a685c2",
   "metadata": {},
   "outputs": [],
   "source": [
    "import pandas as pd\n",
    "import numpy as np\n",
    "from sklearn.preprocessing import StandardScaler\n",
    "from sklearn.impute import SimpleImputer\n",
    "import joblib"
   ]
  },
  {
   "cell_type": "markdown",
   "id": "29c75c84",
   "metadata": {},
   "source": [
    "Load Test Data"
   ]
  },
  {
   "cell_type": "code",
   "execution_count": null,
   "id": "fc56b46f",
   "metadata": {},
   "outputs": [],
   "source": [
    "df_test = pd.read_csv(r\"c:\\Users\\ezath\\Downloads\\test020920251.csv\")  \n",
    "\n",
    "\n",
    "voting_reg = joblib.load(\"final_model.pkl\")\n",
    "scaler = joblib.load(\"scaler.pkl\")\n",
    "features_lasso = joblib.load(\"features.pkl\")\n",
    "train_columns = joblib.load(\"columns.pkl\")"
   ]
  },
  {
   "cell_type": "markdown",
   "id": "3598fbc5",
   "metadata": {},
   "source": [
    "Data Cleaning"
   ]
  },
  {
   "cell_type": "code",
   "execution_count": 55,
   "id": "a9d01b1d",
   "metadata": {},
   "outputs": [],
   "source": [
    "if 'LotFrontage' in df_test.columns and 'Neighborhood' in df_test.columns:\n",
    "    df_test['LotFrontage'] = df_test.groupby('Neighborhood')['LotFrontage'].transform(\n",
    "        lambda s: s.fillna(s.median())\n",
    "    )\n",
    "\n",
    "none_cats = [\n",
    "    'Alley', 'MasVnrType', 'BsmtQual', 'BsmtCond', 'BsmtExposure', 'BsmtFinType1', 'BsmtFinType2',\n",
    "    'FireplaceQu', 'GarageType', 'GarageFinish', 'GarageQual', 'GarageCond', 'PoolQC', 'Fence', 'MiscFeature'\n",
    "]\n",
    "for c in none_cats:\n",
    "    if c in df_test.columns:\n",
    "        df_test[c] = df_test[c].fillna('None')\n",
    "\n",
    "for c in ['MasVnrArea', 'BsmtFinSF1', 'BsmtFinSF2', 'BsmtUnfSF', 'TotalBsmtSF', 'BsmtFullBath', 'BsmtHalfBath',\n",
    "          'GarageYrBlt', 'GarageArea', 'GarageCars']:\n",
    "    if c in df_test.columns:\n",
    "        df_test[c] = df_test[c].fillna(0)"
   ]
  },
  {
   "cell_type": "code",
   "execution_count": 56,
   "id": "9f486f99",
   "metadata": {},
   "outputs": [],
   "source": [
    "imputer = SimpleImputer(strategy='median')\n",
    "numeric_cols = df_test.select_dtypes(include=['int64', 'float64']).columns\n",
    "df_test[numeric_cols] = pd.DataFrame(imputer.fit_transform(df_test[numeric_cols]), columns=numeric_cols, index=df_test.index)"
   ]
  },
  {
   "cell_type": "markdown",
   "id": "8795545d",
   "metadata": {},
   "source": [
    "Feature Engineering"
   ]
  },
  {
   "cell_type": "code",
   "execution_count": null,
   "id": "741131dd",
   "metadata": {},
   "outputs": [],
   "source": [
    "df_test[\"TotalSF\"] = df_test[\"1stFlrSF\"] + df_test[\"2ndFlrSF\"] + df_test[\"TotalBsmtSF\"]\n",
    "df_test[\"Age\"] = df_test[\"YrSold\"] - df_test[\"YearBuilt\"]\n",
    "df_test[\"RemodAge\"] = df_test[\"YrSold\"] - df_test[\"YearRemodAdd\"]"
   ]
  },
  {
   "cell_type": "markdown",
   "id": "07cdfc2d",
   "metadata": {},
   "source": [
    "Encoding Data"
   ]
  },
  {
   "cell_type": "code",
   "execution_count": 57,
   "id": "87458d5d",
   "metadata": {},
   "outputs": [],
   "source": [
    "qual_map = {\"None\": 0, \"Po\": 1, \"Fa\": 2, \"TA\": 3, \"Gd\": 4, \"Ex\": 5}\n",
    "ordinal_cols = ['ExterQual', 'ExterCond', 'BsmtQual', 'BsmtCond',\n",
    "                'HeatingQC', 'KitchenQual', 'FireplaceQu',\n",
    "                'GarageQual', 'GarageCond', 'PoolQC']\n",
    "\n",
    "for col in ordinal_cols:\n",
    "    if col in df_test.columns:\n",
    "        df_test[col] = df_test[col].map(qual_map).fillna(0).astype(int)\n",
    "\n",
    "nominal_cols = [\n",
    "    'MSZoning', 'Street', 'Alley', 'LotShape', 'LandContour', 'Utilities', 'LotConfig',\n",
    "    'LandSlope', 'Neighborhood', 'Condition1', 'Condition2', 'BldgType', 'HouseStyle',\n",
    "    'RoofStyle', 'RoofMatl', 'Exterior1st', 'Exterior2nd', 'MasVnrType', 'Foundation',\n",
    "    'BsmtExposure', 'BsmtFinType1', 'BsmtFinType2', 'Heating', 'CentralAir',\n",
    "    'Electrical', 'Functional', 'GarageType', 'GarageFinish', 'PavedDrive', 'Fence',\n",
    "    'MiscFeature', 'SaleType', 'SaleCondition'\n",
    "]\n",
    "df_test = pd.get_dummies(df_test, columns=[c for c in nominal_cols if c in df_test.columns], drop_first=True)"
   ]
  },
  {
   "cell_type": "code",
   "execution_count": 58,
   "id": "d2ae2552",
   "metadata": {},
   "outputs": [],
   "source": [
    "missing_cols = [col for col in train_columns if col not in df_test.columns]\n",
    "for col in missing_cols:\n",
    "    df_test[col] = 0"
   ]
  },
  {
   "cell_type": "code",
   "execution_count": 59,
   "id": "38ada9ec",
   "metadata": {},
   "outputs": [],
   "source": [
    "df_test = df_test[train_columns]"
   ]
  },
  {
   "cell_type": "markdown",
   "id": "2ba009aa",
   "metadata": {},
   "source": [
    "Scaling Data"
   ]
  },
  {
   "cell_type": "code",
   "execution_count": 60,
   "id": "a93796c2",
   "metadata": {},
   "outputs": [],
   "source": [
    "X_test_scaled = scaler.transform(df_test)\n",
    "X_test_scaled = pd.DataFrame(X_test_scaled, columns=df_test.columns)"
   ]
  },
  {
   "cell_type": "markdown",
   "id": "bf6a50f6",
   "metadata": {},
   "source": [
    "features used in the final model"
   ]
  },
  {
   "cell_type": "code",
   "execution_count": 61,
   "id": "db5b7de2",
   "metadata": {},
   "outputs": [],
   "source": [
    "X_test_final = X_test_scaled[features_lasso]"
   ]
  },
  {
   "cell_type": "markdown",
   "id": "4e2dcb77",
   "metadata": {},
   "source": [
    " Predict"
   ]
  },
  {
   "cell_type": "code",
   "execution_count": 62,
   "id": "76d2ede4",
   "metadata": {},
   "outputs": [],
   "source": [
    "predictions = voting_reg.predict(X_test_final)"
   ]
  },
  {
   "cell_type": "markdown",
   "id": "e16dd399",
   "metadata": {},
   "source": [
    "Save Predictions"
   ]
  },
  {
   "cell_type": "code",
   "execution_count": 63,
   "id": "8144ff12",
   "metadata": {},
   "outputs": [
    {
     "name": "stdout",
     "output_type": "stream",
     "text": [
      "Predictions saved to submission.csv\n"
     ]
    }
   ],
   "source": [
    "submission = pd.DataFrame({\n",
    "    'Id': df_test['Id'] if 'Id' in df_test.columns else range(1, len(predictions) + 1),\n",
    "    'SalePrice': predictions\n",
    "})\n",
    "\n",
    "submission.to_csv('submission.csv', index=False)\n",
    "print(\"Predictions saved to submission.csv\")"
   ]
  }
 ],
 "metadata": {
  "kernelspec": {
   "display_name": "Python 3",
   "language": "python",
   "name": "python3"
  },
  "language_info": {
   "codemirror_mode": {
    "name": "ipython",
    "version": 3
   },
   "file_extension": ".py",
   "mimetype": "text/x-python",
   "name": "python",
   "nbconvert_exporter": "python",
   "pygments_lexer": "ipython3",
   "version": "3.13.3"
  }
 },
 "nbformat": 4,
 "nbformat_minor": 5
}
